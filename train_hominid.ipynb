{
 "cells": [
  {
   "cell_type": "code",
   "execution_count": 1,
   "id": "40558b7c",
   "metadata": {},
   "outputs": [
    {
     "name": "stderr",
     "output_type": "stream",
     "text": [
      "2023-06-14 11:02:26.554361: I tensorflow/core/platform/cpu_feature_guard.cc:193] This TensorFlow binary is optimized with oneAPI Deep Neural Network Library (oneDNN) to use the following CPU instructions in performance-critical operations:  AVX2 FMA\n",
      "To enable them in other operations, rebuild TensorFlow with the appropriate compiler flags.\n",
      "2023-06-14 11:02:27.360596: W tensorflow/compiler/xla/stream_executor/platform/default/dso_loader.cc:64] Could not load dynamic library 'libnvinfer.so.7'; dlerror: libnvinfer.so.7: cannot open shared object file: No such file or directory\n",
      "2023-06-14 11:02:27.360673: W tensorflow/compiler/xla/stream_executor/platform/default/dso_loader.cc:64] Could not load dynamic library 'libnvinfer_plugin.so.7'; dlerror: libnvinfer_plugin.so.7: cannot open shared object file: No such file or directory\n",
      "2023-06-14 11:02:27.360679: W tensorflow/compiler/tf2tensorrt/utils/py_utils.cc:38] TF-TRT Warning: Cannot dlopen some TensorRT libraries. If you would like to use Nvidia GPU with TensorRT, please make sure the missing libraries mentioned above are installed properly.\n"
     ]
    }
   ],
   "source": [
    "import os\n",
    "import h5py\n",
    "from filelock import FileLock\n",
    "import numpy as np\n",
    "import matplotlib.pyplot as plt\n",
    "import pandas as pd\n",
    "import importlib\n",
    "\n",
    "from hominid_pipeline import hominid, utils, model_zoo\n",
    "\n",
    "import tensorflow as tf\n",
    "import yaml"
   ]
  },
  {
   "cell_type": "code",
   "execution_count": 7,
   "id": "cc7c4df4",
   "metadata": {},
   "outputs": [],
   "source": []
  },
  {
   "cell_type": "code",
   "execution_count": 15,
   "id": "504b6b94",
   "metadata": {},
   "outputs": [],
   "source": [
    "working_dir = \"/home/chandana/projects/hominid_pipeline/results\"\n",
    "\n",
    "hits = [\n",
    "    \"experiments/sweeps/tune_hominid_8f34a_00085_85_conv1_activation=exponential,conv1_attention_pool_size=23,conv1_batchnorm=True,conv1_channel_weight=se_2023-05-18_00-04-12\",\n",
    "    \"experiments/sweeps/tune_hominid_8f34a_00185_185_conv1_activation=relu,conv1_attention_pool_size=23,conv1_batchnorm=True,conv1_channel_weight=softconv_2023-05-18_06-11-38\",\n",
    "    \"experiments/model_variations/tune_hominid_8f34a_00058_58_conv1_activation=relu,conv1_attention_pool_size=30,conv1_batchnorm=False,conv1_channel_weight=softconv_2023-05-17_22-09-59/exponential\", # this one!\n",
    "    \"experiments/model_variations/tune_hominid_8f34a_00056_56_conv1_activation=relu,conv1_attention_pool_size=5,conv1_batchnorm=False,conv1_channel_weight=se,conv1__2023-05-17_22-05-53/exponential\",\n",
    "    \"experiments/model_variations/tune_hominid_8f34a_00058_58_conv1_activation=relu,conv1_attention_pool_size=30,conv1_batchnorm=False,conv1_channel_weight=softconv_2023-05-17_22-09-59/exponential/variations/variation_1\"    \n",
    "]\n",
    "\n",
    "index = 3\n",
    "save_path = f\"{working_dir}/{hits[index]}\"\n",
    "config_file = f\"{working_dir}/{hits[index]}/config.yaml\"\n",
    "config = hominid.load_config(config_file)\n",
    "\n",
    "config = {\n",
    "    'conv1_activation': 'exponential',\n",
    "    'conv1_attention_pool_size': 5,\n",
    "    'conv1_batchnorm': True,\n",
    "    'conv1_channel_weight': 'se',\n",
    "    'conv1_dropout': 0.3,\n",
    "    'conv1_filters': 128, # changed from 256\n",
    "    'conv1_kernel_size': 15,\n",
    "    'conv1_max_pool': 8,\n",
    "    'conv1_pool_type': 'attention',\n",
    "    'conv1_type': 'pw',\n",
    "    'dense_activation': 'relu',\n",
    "    'dense_batchnorm': True,\n",
    "    'dense_dropout': [0.3, 0.3],\n",
    "    'dense_units': [256, 128],\n",
    "    'input_shape': (249, 4),\n",
    "    'mha_d_model': 192,\n",
    "    'mha_dropout': 0.1,\n",
    "    'mha_head_type': 'task_specific',\n",
    "    'mha_heads': 4,\n",
    "    'mha_layernorm': False,\n",
    "    'output_activation': 'linear',\n",
    "    'output_shape': 2\n",
    "}\n",
    "\n",
    "\n",
    "save_path = f\"{save_path}/variations/128-filters\"\n",
    "\n",
    "utils.make_directory(save_path)\n",
    "\n",
    "# save the model config\n",
    "with open(os.path.join(save_path, 'config.yaml'), 'w') as file:\n",
    "    documents = yaml.dump(tuner.config, file)\n"
   ]
  },
  {
   "cell_type": "code",
   "execution_count": 17,
   "id": "d8fdc188",
   "metadata": {},
   "outputs": [
    {
     "name": "stdout",
     "output_type": "stream",
     "text": [
      "/home/chandana/projects/hominid_pipeline/results/experiments/model_variations/tune_hominid_8f34a_00056_56_conv1_activation=relu,conv1_attention_pool_size=5,conv1_batchnorm=False,conv1_channel_weight=se,conv1__2023-05-17_22-05-53/exponential/variations/128-filters/config.yaml\n"
     ]
    }
   ],
   "source": [
    "print(f\"{save_path}/config.yaml\")"
   ]
  },
  {
   "cell_type": "code",
   "execution_count": null,
   "id": "86a08b1d",
   "metadata": {},
   "outputs": [],
   "source": []
  }
 ],
 "metadata": {
  "kernelspec": {
   "display_name": "Python 3 (ipykernel)",
   "language": "python",
   "name": "python3"
  },
  "language_info": {
   "codemirror_mode": {
    "name": "ipython",
    "version": 3
   },
   "file_extension": ".py",
   "mimetype": "text/x-python",
   "name": "python",
   "nbconvert_exporter": "python",
   "pygments_lexer": "ipython3",
   "version": "3.7.12"
  }
 },
 "nbformat": 4,
 "nbformat_minor": 5
}
