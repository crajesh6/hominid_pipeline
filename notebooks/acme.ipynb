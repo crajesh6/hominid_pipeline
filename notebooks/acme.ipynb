{
 "cells": [
  {
   "cell_type": "code",
   "execution_count": null,
   "id": "e7455655",
   "metadata": {},
   "outputs": [],
   "source": [
    "import glob, h5py, os, re, sys, time\n",
    "from itertools import product\n",
    "from pathlib import Path\n",
    "from filelock import FileLock\n",
    "\n",
    "import matplotlib.pyplot as plt\n",
    "import logomaker\n",
    "import numpy as np\n",
    "import pandas as pd\n",
    "from multiprocess import Pool\n",
    "from tqdm.notebook import tqdm\n",
    "from scipy.special import softmax, kl_div, rel_entr\n",
    "from scipy.stats import pearsonr\n",
    "from six.moves import cPickle\n",
    "import sh\n",
    "import tfomics\n",
    "\n",
    "from hominid_pipeline import utils, model_zoo, hominid"
   ]
  }
 ],
 "metadata": {
  "kernelspec": {
   "display_name": "Python 3 (ipykernel)",
   "language": "python",
   "name": "python3"
  },
  "language_info": {
   "codemirror_mode": {
    "name": "ipython",
    "version": 3
   },
   "file_extension": ".py",
   "mimetype": "text/x-python",
   "name": "python",
   "nbconvert_exporter": "python",
   "pygments_lexer": "ipython3",
   "version": "3.7.12"
  }
 },
 "nbformat": 4,
 "nbformat_minor": 5
}
