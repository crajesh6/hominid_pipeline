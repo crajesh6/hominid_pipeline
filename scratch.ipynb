{
 "cells": [
  {
   "cell_type": "code",
   "execution_count": 4,
   "id": "45ebe183",
   "metadata": {},
   "outputs": [
    {
     "ename": "SyntaxError",
     "evalue": "invalid syntax (2026495348.py, line 4)",
     "output_type": "error",
     "traceback": [
      "\u001b[0;36m  File \u001b[0;32m\"/tmp/ipykernel_3250789/2026495348.py\"\u001b[0;36m, line \u001b[0;32m4\u001b[0m\n\u001b[0;31m    def calling_function(**kwargs, arg4=3, arg5=2):\u001b[0m\n\u001b[0m                                      ^\u001b[0m\n\u001b[0;31mSyntaxError\u001b[0m\u001b[0;31m:\u001b[0m invalid syntax\n"
     ]
    }
   ],
   "source": [
    "def target_function(arg1, arg2, arg3):\n",
    "    print(f\"arg1: {arg1}, arg2: {arg2}, arg3: {arg3}\")\n",
    "\n",
    "def calling_function(**kwargs, arg4=3, arg5=2):\n",
    "    target_function(**kwargs)\n",
    "    print(f\"arg4: {arg4}, arg5: {arg5}\")\n",
    "\n",
    "# Example usage\n",
    "calling_function(arg1='value1', arg2='value2', arg3='value3')\n"
   ]
  },
  {
   "cell_type": "code",
   "execution_count": null,
   "id": "4e656b5f",
   "metadata": {},
   "outputs": [],
   "source": []
  }
 ],
 "metadata": {
  "kernelspec": {
   "display_name": "Python (deepstarr)",
   "language": "python",
   "name": "deepstarr"
  },
  "language_info": {
   "codemirror_mode": {
    "name": "ipython",
    "version": 3
   },
   "file_extension": ".py",
   "mimetype": "text/x-python",
   "name": "python",
   "nbconvert_exporter": "python",
   "pygments_lexer": "ipython3",
   "version": "3.7.12"
  }
 },
 "nbformat": 4,
 "nbformat_minor": 5
}
