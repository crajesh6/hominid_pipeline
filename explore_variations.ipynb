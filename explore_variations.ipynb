{
 "cells": [
  {
   "cell_type": "code",
   "execution_count": 11,
   "id": "0d72b778",
   "metadata": {},
   "outputs": [],
   "source": [
    "import importlib\n",
    "import os\n",
    "import json\n",
    "import shutil\n",
    "from pathlib import Path\n",
    "import pandas as pd\n",
    "from ray import tune\n",
    "from ray.tune.schedulers import AsyncHyperBandScheduler\n",
    "from ray.tune.integration.keras import TuneReportCallback\n",
    "from ray.air import session\n",
    "import tensorflow as tf\n",
    "import yaml\n",
    "\n",
    "import utils, model_zoo, hominid"
   ]
  },
  {
   "cell_type": "code",
   "execution_count": 15,
   "id": "ae442962",
   "metadata": {},
   "outputs": [
    {
     "data": {
      "text/plain": [
       "<module 'hominid' from '/home/chandana/projects/hominid_pipeline/hominid.py'>"
      ]
     },
     "execution_count": 15,
     "metadata": {},
     "output_type": "execute_result"
    }
   ],
   "source": [
    "importlib.reload(hominid)"
   ]
  },
  {
   "cell_type": "code",
   "execution_count": 20,
   "id": "64100b2a",
   "metadata": {},
   "outputs": [
    {
     "data": {
      "text/plain": [
       "['/home/chandana/ray_results/tune_hominid_v2/tune_hominid_8f34a_00056_56_conv1_activation=relu,conv1_attention_pool_size=5,conv1_batchnorm=False,conv1_channel_weight=se,conv1__2023-05-17_22-05-53',\n",
       " '/home/chandana/ray_results/tune_hominid_v2/tune_hominid_8f34a_00058_58_conv1_activation=relu,conv1_attention_pool_size=30,conv1_batchnorm=False,conv1_channel_weight=softconv_2023-05-17_22-09-59',\n",
       " '/home/chandana/ray_results/tune_hominid_v2/tune_hominid_8f34a_00069_69_conv1_activation=relu,conv1_attention_pool_size=1,conv1_batchnorm=False,conv1_channel_weight=None,conv_2023-05-17_23-02-19']"
      ]
     },
     "execution_count": 20,
     "metadata": {},
     "output_type": "execute_result"
    }
   ],
   "source": [
    "df = pd.read_csv(\"/home/chandana/projects/hominid_pipeline/experiments/sweep_explore_variations.csv\")\n",
    "\n",
    "df[\"trial_log_path\"].to_list()"
   ]
  },
  {
   "cell_type": "raw",
   "id": "b10cfb8a",
   "metadata": {},
   "source": [
    "# get from path\n",
    "save_dir = \"/home/chandana/projects/hominid_pipeline/experiments/model_variations\"\n",
    "\n",
    "for save_path in df[\"trial_log_path\"].to_list():\n",
    "\n",
    "#     config_file = os.path.join(save_path, 'config.yaml') # load from config\n",
    "\n",
    "#     config = hominid.load_config(config_file)\n",
    "\n",
    "#     print(yaml.dump(config, default_flow_style=False))\n",
    "    \n",
    "    \n",
    "    config = json.load(open(f\"{save_path}/params.json\"))\n",
    "#     config[\"input_shape\"] = (249, 4)\n",
    "#     config[\"output_shape\"] = 2\n",
    "    \n",
    "    print(yaml.dump(config, default_flow_style=False))\n",
    "    \n",
    "    path = save_path.split(\"tune_hominid_v2\")[-1]\n",
    "\n",
    "    save_path = f\"{save_dir}/{path}\"\n",
    "#     Path(save_path).mkdir(exist_ok=True, parents=True\n",
    "    \n",
    "    print(\"========================\")\n",
    "\n",
    "    tuner = HominidTuner(config, epochs=1, tuning_mode=False, save_path=save_path)\n",
    "\n",
    "    # train model\n",
    "    # tuner.execute()\n",
    "\n",
    "    # interpret model\n",
    "    # tuner.interpret_model(layer=2)\n",
    "    # tuner.interpret_model(layer=3)"
   ]
  },
  {
   "cell_type": "code",
   "execution_count": 7,
   "id": "325b7d33",
   "metadata": {},
   "outputs": [
    {
     "data": {
      "text/plain": [
       "'/home/chandana/ray_results/tune_hominid_v2/tune_hominid_8f34a_00056_56_conv1_activation=relu,conv1_attention_pool_size=5,conv1_batchnorm=False,conv1_channel_weight=se,conv1__2023-05-17_22-05-53/config.yaml'"
      ]
     },
     "execution_count": 7,
     "metadata": {},
     "output_type": "execute_result"
    }
   ],
   "source": [
    "config_file"
   ]
  },
  {
   "cell_type": "code",
   "execution_count": 10,
   "id": "56d19d73",
   "metadata": {},
   "outputs": [
    {
     "data": {
      "text/plain": [
       "True"
      ]
     },
     "execution_count": 10,
     "metadata": {},
     "output_type": "execute_result"
    }
   ],
   "source": [
    "path = Path(config_file)\n",
    "path.is_file()"
   ]
  },
  {
   "cell_type": "code",
   "execution_count": null,
   "id": "814c649a",
   "metadata": {},
   "outputs": [],
   "source": []
  }
 ],
 "metadata": {
  "kernelspec": {
   "display_name": "Python (deepstarr)",
   "language": "python",
   "name": "deepstarr"
  },
  "language_info": {
   "codemirror_mode": {
    "name": "ipython",
    "version": 3
   },
   "file_extension": ".py",
   "mimetype": "text/x-python",
   "name": "python",
   "nbconvert_exporter": "python",
   "pygments_lexer": "ipython3",
   "version": "3.7.12"
  }
 },
 "nbformat": 4,
 "nbformat_minor": 5
}
